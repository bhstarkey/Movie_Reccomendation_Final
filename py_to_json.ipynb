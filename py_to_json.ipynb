{
 "cells": [
  {
   "cell_type": "code",
   "execution_count": 1,
   "metadata": {},
   "outputs": [],
   "source": [
    "import csv\n",
    "import json\n"
   ]
  },
  {
   "cell_type": "code",
   "execution_count": null,
   "metadata": {},
   "outputs": [],
   "source": [
    "\n",
    "# Specify the input CSV file path\n",
    "csv_file_path = 'input.csv'\n",
    "\n",
    "# Specify the output JSON file path\n",
    "json_file_path = 'output.json'\n",
    "\n",
    "# Load CSV data and convert it to a list of dictionaries\n",
    "csv_data = []\n",
    "with open(csv_file_path, 'r') as csv_file:\n",
    "    csv_reader = csv.DictReader(csv_file)\n",
    "    for row in csv_reader:\n",
    "        csv_data.append(row)\n",
    "\n",
    "# Write the JSON data to the output file\n",
    "with open(json_file_path, 'w') as json_file:\n",
    "    json.dump(csv_data, json_file, indent=4)\n",
    "\n",
    "print(f'CSV file has been converted to JSON successfully! Output file: {json_file_path}')\n"
   ]
  }
 ],
 "metadata": {
  "kernelspec": {
   "display_name": "Python 3",
   "language": "python",
   "name": "python3"
  },
  "language_info": {
   "codemirror_mode": {
    "name": "ipython",
    "version": 3
   },
   "file_extension": ".py",
   "mimetype": "text/x-python",
   "name": "python",
   "nbconvert_exporter": "python",
   "pygments_lexer": "ipython3",
   "version": "3.11.2"
  },
  "orig_nbformat": 4
 },
 "nbformat": 4,
 "nbformat_minor": 2
}
