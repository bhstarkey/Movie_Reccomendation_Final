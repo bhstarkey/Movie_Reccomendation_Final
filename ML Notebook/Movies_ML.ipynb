{
 "cells": [
  {
   "cell_type": "code",
   "execution_count": 5,
   "metadata": {},
   "outputs": [],
   "source": [
    "#import general dependencies\n",
    "import pandas as pd\n",
    "import plotly.express as px\n",
    "import hvplot.pandas"
   ]
  },
  {
   "cell_type": "code",
   "execution_count": null,
   "metadata": {},
   "outputs": [],
   "source": [
    "#read in the data\n",
    "#may need to request the data from a postgres database"
   ]
  },
  {
   "cell_type": "code",
   "execution_count": null,
   "metadata": {},
   "outputs": [],
   "source": [
    "#check data shape, dtypes, etc."
   ]
  },
  {
   "cell_type": "code",
   "execution_count": null,
   "metadata": {},
   "outputs": [],
   "source": [
    "#set target column for y variable and drop that column for the X value\n",
    "y = \n",
    "X = "
   ]
  },
  {
   "cell_type": "code",
   "execution_count": null,
   "metadata": {},
   "outputs": [],
   "source": [
    "#toDo: build a function to generate training and testing sets\n",
    "#split the data into training and testing\n",
    "from sklearn.model_selection import train_test_split\n",
    "X_train, X_test, y_train, y_test = train_test_split(X, y, test_size = .2)"
   ]
  },
  {
   "cell_type": "code",
   "execution_count": null,
   "metadata": {},
   "outputs": [],
   "source": [
    "#scale the data\n",
    "from sklearn.preprocessing import StandardScaler\n",
    "\n",
    "scaler = StandardScaler()\n",
    "X_train_scaler = scaler.fit(X_train)\n",
    "X_train_scaled = X_train_scaler.transform(X_train)\n",
    "X_test_scaled = X_train_scaler.transform(X_test)"
   ]
  },
  {
   "cell_type": "code",
   "execution_count": null,
   "metadata": {},
   "outputs": [],
   "source": [
    "#import our dependencies\n",
    "from sklearn.cluster import KMeans\n",
    "\n",
    "#determine our clusters using an elbow plot\n",
    "inertia = []\n",
    "clusters = list(range(1,21))\n",
    "\n",
    "# Calculate the inertia for the range of K values\n",
    "for i in clusters:\n",
    "    model = KMeans(n_clusters=i, random_state=0)\n",
    "    model.fit()\n",
    "    inertia.append(model.inertia_)\n",
    "\n",
    "# Define a DataFrame to plot the Elbow Curve using hvPlot\n",
    "elbow_data = {\"clusters\": clusters, \"inertia\": inertia}\n",
    "df_elbow = pd.DataFrame(elbow_data)\n",
    "df_elbow.hvplot.line(x=\"clusters\", y=\"inertia\", title=\"Elbow Curve\", xticks=clusters)"
   ]
  },
  {
   "cell_type": "code",
   "execution_count": null,
   "metadata": {},
   "outputs": [],
   "source": [
    "#build function for running a Kmeans model\n",
    "\n",
    "def get_Kmeans_results(cluster) #toDo: pass in test_train fucntion\n",
    "    #instantiate the classifier\n",
    "    model = Kmeans(n_clusters = cluster)\n",
    "\n",
    "    #fit our scaled data\n",
    "    model = model.fit(X_train_scaled, y_train)\n",
    "\n",
    "    #make our predictions\n",
    "    model.predict(X_test_scaled)\n",
    "\n",
    "    #create a column in our dataframe for our classifications\n",
    "    df[\"class\"] = model.labels_"
   ]
  }
 ],
 "metadata": {
  "kernelspec": {
   "display_name": "mlenv",
   "language": "python",
   "name": "mlenv"
  },
  "language_info": {
   "codemirror_mode": {
    "name": "ipython",
    "version": 3
   },
   "file_extension": ".py",
   "mimetype": "text/x-python",
   "name": "python",
   "nbconvert_exporter": "python",
   "pygments_lexer": "ipython3",
   "version": "3.7.13"
  },
  "orig_nbformat": 4
 },
 "nbformat": 4,
 "nbformat_minor": 2
}
