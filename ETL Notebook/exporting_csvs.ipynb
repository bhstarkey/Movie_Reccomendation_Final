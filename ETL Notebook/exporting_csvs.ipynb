{
 "cells": [
  {
   "cell_type": "code",
   "execution_count": 1,
   "metadata": {},
   "outputs": [],
   "source": [
    "import pandas as pd\n",
    "import numpy as np"
   ]
  },
  {
   "cell_type": "code",
   "execution_count": 5,
   "metadata": {},
   "outputs": [],
   "source": [
    "genome_scores = pd.read_csv('<file_path><file_name>.csv')\n",
    "genome_tags = pd.read_csv('<file_path><file_name>.csv')\n",
    "keywords = pd.read_csv('<file_path><file_name>.csv')\n",
    "links = pd.read_csv('<file_path><file_name>.csv')\n",
    "movies_metadata = pd.read_csv('<file_path><file_name>.csv')\n",
    "movies = pd.read_csv('<file_path><file_name>.csv')\n",
    "ratings = pd.read_csv('<file_path><file_name>.csv')\n",
    "tags = pd.read_csv('<file_path><file_name>.csv')\n",
    "cleaned_movies = pd.read_csv('<file_path><file_name>.csv')\n",
    "cleaned_tags = pd.read_csv('<file_path><file_name>.csv')\n",
    "encoded_genres = pd.read_csv('<file_path><file_name>.csv')\n",
    "movies_merged = pd.read_csv('<file_path><file_name>.csv')\n",
    "movies_metadata_cleaned = pd.read_csv('<file_path><file_name>.csv')"
   ]
  },
  {
   "cell_type": "code",
   "execution_count": 8,
   "metadata": {},
   "outputs": [],
   "source": [
    "# Exporting smaller versions of csvs to fit on github\n",
    "genome_scores.head(2000).to_csv(\"../Resources/CSVs/genome_scores.csv\")\n",
    "genome_tags.head(2000).to_csv(\"../Resources/CSVs/genome_tags.csv\")\n",
    "keywords.head(2000).to_csv(\"../Resources/CSVs/keywords.csv\")\n",
    "links.head(2000).to_csv(\"../Resources/CSVs/links.csv\")\n",
    "movies_metadata.head(2000).to_csv(\"../Resources/CSVs/movies_metadata.csv\")\n",
    "movies.head(2000).to_csv(\"../Resources/CSVs/movies.csv\")\n",
    "ratings.head(2000).to_csv(\"../Resources/CSVs/ratings.csv\")\n",
    "tags.head(2000).to_csv(\"../Resources/CSVs/tags.csv\")\n",
    "cleaned_movies.head(2000).to_csv(\"../Resources/CSVs/Cleaned/cleaned_movies.csv\")\n",
    "cleaned_tags.head(2000).to_csv(\"../Resources/CSVs/Cleaned/cleaned_tags.csv\")\n",
    "encoded_genres.head(2000).to_csv(\"../Resources/CSVs/Cleaned/encoded_genres.csv\")\n",
    "movies_merged.head(2000).to_csv(\"../Resources/CSVs/Cleaned/movies_merged.csv\")\n",
    "movies_metadata_cleaned.head(2000).to_csv(\"../Resources/CSVs/Cleaned/movies_metadata_cleaned.csv\")"
   ]
  },
  {
   "cell_type": "code",
   "execution_count": null,
   "metadata": {},
   "outputs": [],
   "source": []
  }
 ],
 "metadata": {
  "kernelspec": {
   "display_name": "PythonData2",
   "language": "python",
   "name": "python3"
  },
  "language_info": {
   "codemirror_mode": {
    "name": "ipython",
    "version": 3
   },
   "file_extension": ".py",
   "mimetype": "text/x-python",
   "name": "python",
   "nbconvert_exporter": "python",
   "pygments_lexer": "ipython3",
   "version": "3.7.13"
  },
  "orig_nbformat": 4,
  "vscode": {
   "interpreter": {
    "hash": "71804a6a192d7d32846a22d759e7e3672ec1f1160c4cdf8caaefa7b7c12306f1"
   }
  }
 },
 "nbformat": 4,
 "nbformat_minor": 2
}
